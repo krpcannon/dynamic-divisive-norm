{
 "cells": [
  {
   "cell_type": "code",
   "execution_count": 1,
   "metadata": {},
   "outputs": [],
   "source": [
    "\"\"\"We define the class for simulating the ORGaNICs model.\"\"\"\n",
    "import os\n",
    "import torch\n",
    "import matplotlib.pyplot as plt\n",
    "import torch.nn.functional as F\n",
    "import pytorch_lightning as pl\n",
    "from training_scripts.MNIST.model import feedforward\n",
    "from training_scripts.MNIST.dataset import MnistDataModule\n",
    "import training_scripts.MNIST.default_config as config\n",
    "from models.utils.sim_spectrum import sim_solution\n",
    "import models.ORGaNICs_models as organics\n",
    "from torch.func import jacrev, vmap\n",
    "from models.utils.utils import dynm_fun\n",
    "from matplotlib import colors\n",
    "import numpy as np\n",
    "from scipy.optimize import fsolve\n",
    "from matplotlib.colors import TwoSlopeNorm\n",
    "from matplotlib.colors import Normalize\n",
    "from lightning.pytorch.callbacks.early_stopping import EarlyStopping\n",
    "from pytorch_lightning.loggers import TensorBoardLogger\n",
    "from pytorch_lightning.callbacks import Callback\n",
    "from pytorch_lightning.profilers import PyTorchProfiler\n",
    "\n",
    "torch.set_float32_matmul_precision('medium')\n",
    "\n",
    "# plt.rc('text', usetex=True)\n",
    "# plt.rc('font', family='serif')\n",
    "# device = torch.device(\"cuda\" if torch.cuda.is_available() else \"cpu\")\n",
    "device = torch.device(\"cpu\")\n",
    "cmap = 'viridis'"
   ]
  },
  {
   "cell_type": "code",
   "execution_count": 3,
   "metadata": {},
   "outputs": [],
   "source": [
    "# We load the model first\n",
    "# model_name = \"MNIST\"\n",
    "model_name = \"MNIST_multilayer_layer_120_60\"\n",
    "# model_name = \"MNIST_MLP_80\"\n",
    "# model_name = \"MNIST_MLP_120_60\"\n",
    "PERMUTED = False\n",
    "folder_name = \"../../tb_logs\"\n",
    "version = 0"
   ]
  },
  {
   "cell_type": "code",
   "execution_count": 4,
   "metadata": {},
   "outputs": [],
   "source": [
    "def load_model(epoch_number=None, model_name=None, folder_name=None, version=0):\n",
    "    checkpoint_folder = f'{folder_name}/{model_name}/version_{version}/checkpoints/'\n",
    "    hparams_path = f'{folder_name}/{model_name}/version_{version}/hparams.yaml'\n",
    "    checkpoint_files = os.listdir(checkpoint_folder)\n",
    "    epoch_idx = [int(file.split('epoch=')[1].split('-')[0]) for file in checkpoint_files]\n",
    "\n",
    "    if epoch_number is not None:\n",
    "        # If epoch number is provided, find the index of that epoch\n",
    "        max_idx = epoch_idx.index(epoch_number)\n",
    "    else:\n",
    "        # If epoch number is not provided, find the index of the max epoch\n",
    "        max_idx = epoch_idx.index(max(epoch_idx))\n",
    "\n",
    "    checkpoint_path = os.path.join(checkpoint_folder, checkpoint_files[max_idx])\n",
    "    # print(checkpoint_path)\n",
    "    model = feedforward.load_from_checkpoint(checkpoint_path=checkpoint_path, map_location='cpu', hparams_file=hparams_path)\n",
    "    model.eval()\n",
    "    return model"
   ]
  },
  {
   "cell_type": "code",
   "execution_count": 15,
   "metadata": {},
   "outputs": [
    {
     "name": "stderr",
     "output_type": "stream",
     "text": [
      "GPU available: True (cuda), used: True\n",
      "TPU available: False, using: 0 TPU cores\n",
      "IPU available: False, using: 0 IPUs\n",
      "HPU available: False, using: 0 HPUs\n"
     ]
    },
    {
     "name": "stderr",
     "output_type": "stream",
     "text": [
      "LOCAL_RANK: 0 - CUDA_VISIBLE_DEVICES: [0]\n"
     ]
    },
    {
     "data": {
      "application/vnd.jupyter.widget-view+json": {
       "model_id": "87713b80e44d4a0097bb44e8cb64f748",
       "version_major": 2,
       "version_minor": 0
      },
      "text/plain": [
       "Testing: |          | 0/? [00:00<?, ?it/s]"
      ]
     },
     "metadata": {},
     "output_type": "display_data"
    },
    {
     "name": "stdout",
     "output_type": "stream",
     "text": [
      "────────────────────────────────────────────────────────────────────────────────────────────────────────────────────────\n",
      "       Test metric             DataLoader 0\n",
      "────────────────────────────────────────────────────────────────────────────────────────────────────────────────────────\n",
      "        test_acc                  0.9805\n",
      "         test_f1                  0.9805\n",
      "        test_loss           0.1372909141403448\n",
      "────────────────────────────────────────────────────────────────────────────────────────────────────────────────────────\n"
     ]
    },
    {
     "data": {
      "text/plain": [
       "[{'test_acc': 0.9805, 'test_f1': 0.9805, 'test_loss': 0.1372909141403448}]"
      ]
     },
     "execution_count": 15,
     "metadata": {},
     "output_type": "execute_result"
    }
   ],
   "source": [
    "logger = TensorBoardLogger(folder_name, name=\"Inference\")\n",
    "dm = MnistDataModule(\n",
    "    data_dir=config.DATA_DIR,\n",
    "    batch_size=2000,\n",
    "    num_workers=2,\n",
    "    permuted=PERMUTED,\n",
    ")\n",
    "# calculate training accuracy using pytorch lightning\n",
    "trainer = pl.Trainer(\n",
    "    logger=logger,\n",
    "    max_epochs=1\n",
    ")\n",
    "\n",
    "epoch_no = None\n",
    "model = load_model(epoch_no, model_name, folder_name, version)\n",
    "\n",
    "trainer.test(model, datamodule=dm)"
   ]
  },
  {
   "cell_type": "code",
   "execution_count": 16,
   "metadata": {},
   "outputs": [],
   "source": [
    "model.eval()\n",
    "\n",
    "# We define the ORGaNICs parameters\n",
    "# organics_model = model.org1\n",
    "organics_model = model.org2\n",
    "\n",
    "N = organics_model.output_size\n",
    "tauA = 2.0 + 0 * torch.abs(torch.randn(N) * 0.001)\n",
    "tauY = 2.0 + 0 * torch.abs(torch.randn(N) * 0.001)\n",
    "\n",
    "# defining parameters from the model\n",
    "Wzx = organics_model.Wzx\n",
    "Wyy = organics_model.Wr()\n",
    "Way = organics_model.Way()\n",
    "sigma = organics_model.sigma\n",
    "b0 = organics_model.B0()"
   ]
  },
  {
   "cell_type": "code",
   "execution_count": 17,
   "metadata": {},
   "outputs": [],
   "source": [
    "\n",
    "# defining the input dependent parameters\n",
    "# define x to be the test dataset\n",
    "# x = model.activations['org1_input'].clone().to(device)\n",
    "x = model.activations['org2_input'].clone().to(device)\n",
    "z = F.linear(x, Wzx, bias=None)\n",
    "z = z / torch.norm(z, dim=1, keepdim=True)\n",
    "b1 = organics_model.B1(x)\n"
   ]
  },
  {
   "cell_type": "code",
   "execution_count": 18,
   "metadata": {},
   "outputs": [],
   "source": [
    "# Define the dynamical function\n",
    "def _dynamical_fun(vect, z, b1):\n",
    "    \"\"\"\n",
    "    This function defines the dynamics of the ring ORGaNICs model.\n",
    "    :param x: The state of the network.\n",
    "    :return: The derivative of the network at the current time-step.\n",
    "    \"\"\"\n",
    "    y = vect[0:N]\n",
    "    a = vect[N:]\n",
    "    dydt = (1 / tauY) * (-y + b1 * z\n",
    "            + (1 - torch.sqrt(torch.relu(a))) * (Wyy @ y))\n",
    "    dadt = (1 / tauA) * (-a + (sigma * b0) ** 2 + Way @ (torch.relu(a) * y ** 2))\n",
    "    return torch.cat((dydt, dadt))"
   ]
  },
  {
   "cell_type": "code",
   "execution_count": 19,
   "metadata": {},
   "outputs": [
    {
     "ename": "",
     "evalue": "",
     "output_type": "error",
     "traceback": [
      "\u001b[1;31mThe Kernel crashed while executing code in the current cell or a previous cell. \n",
      "\u001b[1;31mPlease review the code in the cell(s) to identify a possible cause of the failure. \n",
      "\u001b[1;31mClick <a href='https://aka.ms/vscodeJupyterKernelCrash'>here</a> for more info. \n",
      "\u001b[1;31mView Jupyter <a href='command:jupyter.viewOutput'>log</a> for further details."
     ]
    }
   ],
   "source": [
    "max_real_eigenvals = torch.zeros((x.size(0)), dtype=torch.float32)\n",
    "num_inputs = x.size(0)\n",
    "\n",
    "\n",
    "for idx in range(num_inputs):\n",
    "    z_new = z[idx, :]\n",
    "    b1_new = b1[idx, :]\n",
    "    output_y, output_a = organics_model.steady_state(None, b1_new.unsqueeze(0), b0, z_new.unsqueeze(0))\n",
    "    vect = torch.cat((output_y, output_a), dim=1)\n",
    "    vect_new = vect.squeeze(0)\n",
    "    jac = jacrev(_dynamical_fun)(vect_new, z_new, b1_new)\n",
    "    # jacobians[idx, :, :] = jac\n",
    "    # eigenvals[idx, :] = torch.linalg.eigvals(jac)\n",
    "    max_real_eigenvals[idx] = torch.max(torch.real(torch.linalg.eigvals(jac)))\n"
   ]
  },
  {
   "cell_type": "code",
   "execution_count": 12,
   "metadata": {},
   "outputs": [
    {
     "data": {
      "text/plain": [
       "torch.Size([2000])"
      ]
     },
     "execution_count": 12,
     "metadata": {},
     "output_type": "execute_result"
    }
   ],
   "source": [
    "max_real_eigenvals.shape"
   ]
  },
  {
   "cell_type": "code",
   "execution_count": 10,
   "metadata": {},
   "outputs": [],
   "source": [
    "# Save the tensor max_real_eigenvals\n",
    "torch.save(max_real_eigenvals, f'./eigenvals_second_layer_{model_name}.pt')"
   ]
  },
  {
   "cell_type": "code",
   "execution_count": 11,
   "metadata": {},
   "outputs": [],
   "source": [
    "\n",
    "# Checking the consistency of the output\n",
    "# output = model.activations['org1_output'].clone().to(device)\n",
    "# output = model.activations['org2_output'].clone().to(device)\n",
    "output_y, output_a = organics_model.steady_state(x, b1, b0, z)\n",
    "vect = torch.cat((output_y, output_a), dim=1)\n",
    "\n",
    "# print(torch.allclose(output, torch.relu(output_y) ** 2, atol=1e-5))"
   ]
  },
  {
   "cell_type": "code",
   "execution_count": 13,
   "metadata": {},
   "outputs": [],
   "source": [
    "num_inputs = 1000\n",
    "# jacobians = torch.zeros((num_inputs, N * 2, N * 2))\n",
    "# eigenvals = torch.zeros((num_inputs, N * 2), dtype=torch.complex64)\n",
    "max_real_eigenvals = torch.zeros((num_inputs), dtype=torch.float32)\n",
    "\n",
    "for idx in range(num_inputs):\n",
    "    z_new = z[idx, :]\n",
    "    b1_new = b1[idx, :]\n",
    "    vect_new = vect[idx, :]\n",
    "    jac = jacrev(_dynamical_fun)(vect_new, z_new, b1_new)\n",
    "    # jacobians[idx, :, :] = jac\n",
    "    # eigenvals[idx, :] = torch.linalg.eigvals(jac)\n",
    "    max_real_eigenvals[idx] = torch.max(torch.real(torch.linalg.eigvals(jac)))"
   ]
  },
  {
   "cell_type": "code",
   "execution_count": 14,
   "metadata": {},
   "outputs": [
    {
     "data": {
      "image/png": "[encoded data removed]",
      "text/plain": [
       "<Figure size 1000x600 with 1 Axes>"
      ]
     },
     "metadata": {},
     "output_type": "display_data"
    }
   ],
   "source": [
    "# Find the maximum of real parts of all eigenvalues for all num_inputs and plot them\n",
    "# max_real_eigenvals = torch.max(torch.real(eigenvals), dim=1).values\n",
    "\n",
    "\n",
    "# Plotting the scatter plot\n",
    "plt.figure(figsize=(10, 6))  # Larger figure size\n",
    "plt.scatter(range(len(max_real_eigenvals)), max_real_eigenvals.detach().numpy(), color='b')  # Scatter plot\n",
    "plt.xlabel('Input index', fontsize=14)  # Increase font size for x-label\n",
    "plt.ylabel('Maximum real part of eigenvalues', fontsize=14)  # Increase font size for y-label\n",
    "plt.xticks(fontsize=12)  # Increase font size for x-ticks\n",
    "plt.yticks(fontsize=12)  # Increase font size for y-ticks\n",
    "plt.show()"
   ]
  },
  {
   "cell_type": "code",
   "execution_count": null,
   "metadata": {},
   "outputs": [],
   "source": []
  },
  {
   "cell_type": "code",
   "execution_count": null,
   "metadata": {},
   "outputs": [],
   "source": []
  },
  {
   "cell_type": "code",
   "execution_count": null,
   "metadata": {},
   "outputs": [],
   "source": []
  },
  {
   "cell_type": "code",
   "execution_count": null,
   "metadata": {},
   "outputs": [],
   "source": []
  },
  {
   "cell_type": "code",
   "execution_count": null,
   "metadata": {},
   "outputs": [],
   "source": []
  },
  {
   "cell_type": "code",
   "execution_count": null,
   "metadata": {},
   "outputs": [],
   "source": []
  }
 ],
 "metadata": {
  "kernelspec": {
   "display_name": "feed-r-conda",
   "language": "python",
   "name": "feed-r-conda"
  },
  "language_info": {
   "codemirror_mode": {
    "name": "ipython",
    "version": 3
   },
   "file_extension": ".py",
   "mimetype": "text/x-python",
   "name": "python",
   "nbconvert_exporter": "python",
   "pygments_lexer": "ipython3",
   "version": "3.10.12"
  }
 },
 "nbformat": 4,
 "nbformat_minor": 2
}
